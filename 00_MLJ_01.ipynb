{
  "nbformat": 4,
  "nbformat_minor": 0,
  "metadata": {
    "colab": {
      "name": "00_MLJ_01.ipynb",
      "provenance": [],
      "collapsed_sections": [],
      "authorship_tag": "ABX9TyP84N2RZ9HLWZFAQoV+7Ny8",
      "include_colab_link": true
    },
    "kernelspec": {
      "name": "python3",
      "display_name": "Python 3"
    },
    "language_info": {
      "name": "python"
    }
  },
  "cells": [
    {
      "cell_type": "markdown",
      "metadata": {
        "id": "view-in-github",
        "colab_type": "text"
      },
      "source": [
        "<a href=\"https://colab.research.google.com/github/rkmaccha/MLJ_Class_Sessions/blob/main/00_MLJ_01.ipynb\" target=\"_parent\"><img src=\"https://colab.research.google.com/assets/colab-badge.svg\" alt=\"Open In Colab\"/></a>"
      ]
    },
    {
      "cell_type": "markdown",
      "source": [
        "#Intro to Python Programming"
      ],
      "metadata": {
        "id": "tCOUZiHknoCY"
      }
    },
    {
      "cell_type": "markdown",
      "source": [
        "Working with Google Colab"
      ],
      "metadata": {
        "id": "rNqpaWU7ICa3"
      }
    },
    {
      "cell_type": "code",
      "execution_count": null,
      "metadata": {
        "colab": {
          "base_uri": "https://localhost:8080/"
        },
        "id": "NqPOb89tnAbn",
        "outputId": "28ab784b-ef12-453c-f23a-8e24be920844"
      },
      "outputs": [
        {
          "output_type": "stream",
          "name": "stdout",
          "text": [
            "Hello Guys\n"
          ]
        }
      ],
      "source": [
        "print(\"Hello Guys\")"
      ]
    },
    {
      "cell_type": "code",
      "source": [
        "print(\"Welcome to Github\")"
      ],
      "metadata": {
        "colab": {
          "base_uri": "https://localhost:8080/"
        },
        "id": "8tXZyO6vnkcl",
        "outputId": "82b5c336-41ef-48b8-9537-a30fa598e07b"
      },
      "execution_count": null,
      "outputs": [
        {
          "output_type": "stream",
          "name": "stdout",
          "text": [
            "Welcome to Github\n"
          ]
        }
      ]
    },
    {
      "cell_type": "code",
      "source": [
        ""
      ],
      "metadata": {
        "id": "Iv5F_rZWqP3X"
      },
      "execution_count": null,
      "outputs": []
    }
  ]
}